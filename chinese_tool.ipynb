{
 "cells": [
  {
   "cell_type": "code",
   "execution_count": 1,
   "metadata": {},
   "outputs": [],
   "source": [
    "with open(\"simple.txt\", \"r\", encoding=\"utf-8\") as f:\n",
    "    article = f.read()"
   ]
  },
  {
   "cell_type": "code",
   "execution_count": 2,
   "metadata": {},
   "outputs": [
    {
     "data": {
      "text/plain": [
       "'為什麼會覺得煩呢？也許讓我百們學寫繁體中文的話，我們可能會煩。\\n主要度看所處的環境。\\n如果樓主問從一出生就學的是繁體中文的話，現在讓你學寫簡體答中文，你也會煩的。如果一個英語為母語的國家，讓他們的人民學中文，不管是繁回體還是簡體都會煩。\\n要你用你的純母語來書寫，應該是最順手答的吧'"
      ]
     },
     "execution_count": 2,
     "metadata": {},
     "output_type": "execute_result"
    }
   ],
   "source": [
    "\n",
    "# opencc-python-reimplemented\n",
    "from opencc import OpenCC\n",
    "cc = OpenCC('s2tw')  # convert from Simplified Chinese to Traditional Chinese\n",
    "# can also set conversion by calling set_conversion\n",
    "# cc.set_conversion('s2tw')\n",
    "converted = cc.convert(article)\n",
    "converted"
   ]
  },
  {
   "cell_type": "code",
   "execution_count": null,
   "metadata": {},
   "outputs": [],
   "source": []
  },
  {
   "cell_type": "code",
   "execution_count": 9,
   "metadata": {},
   "outputs": [
    {
     "name": "stderr",
     "output_type": "stream",
     "text": [
      "Building prefix dict from D:\\code\\PycharmProjects\\machine_learning_0407\\dict.txt.big ...\n",
      "Loading model from cache C:\\Users\\sore\\AppData\\Local\\Temp\\jieba.u0eb74b94744750b7ed4acf4fc6132938.cache\n",
      "Loading model cost 3.283 seconds.\n",
      "Prefix dict has been built successfully.\n"
     ]
    },
    {
     "data": {
      "text/plain": [
       "'台灣 援贈 新加坡 口罩 ， 新加坡 總理 李顯龍 夫人 何晶 臉書 轉發 相關 報導 ， 還 發文 「 Errrr ... （ 呃 ... ） 」 一度 引起 熱議 ， 但 她 已 修改 這段 謎樣 文字 ， 對 來自 台灣 的 協助 表示感謝 。 \\n \\n 外交部 日前 宣布 啟動 第二 波 援助 需要 口罩 的 國家 ， 對象 包含 新 南向 政策 國家 ， 新加坡 也 在 名單 內 ， 但 李顯龍 的 夫人 何晶 11 日 在 臉書 轉發 相關 報導 ， 還 發文 「 Errrr ... （ 呃 ... ） 」 引起 熱議 。 \\n \\n 不少 網友 對 何晶 以 Errrr .... 表達 看法 感到 好奇 ， 不 了解 究竟 意涵 為何 。 這個 貼文 也 引發 不同 立場 網友 在 她 的 臉書 中 筆戰 。 \\n \\n 有 網友 認為 還是 要 就事論事 ， 新加坡 提出 口罩 的 需求 ， 所以 排 在 台灣 捐贈 名單 上 。 連 台灣 人 在 新加坡 的 部分 社群 也 熱烈 討論 這則 貼文 。 \\n \\n 何晶 今天 也 修改 這段 如 謎 字 般的 留言 。 她 對 台灣 的 朋友 的 協助 特別 表示感謝 ， 並 表達 感激 之情 。 \\n \\n 何晶 指出 ， 大家 要 相互 擁抱 ， 停止 在 網路 空間 相互 攻擊 。 \\n \\n 中華民國 外交部 12 日 也 表示 ， 宣布 外援 後 也 和 星國 相關 單位 進行 討論 ， 星方 初步 回應 正面 ， 兩 國 雙邊 政策 將以 政府 發言 為主 ， 不 受 任何 個人 發言 影響 。'"
      ]
     },
     "execution_count": 9,
     "metadata": {},
     "output_type": "execute_result"
    }
   ],
   "source": [
    "# https://github.com/fxsjy/jieba\n",
    "from urllib.request import urlretrieve\n",
    "import os\n",
    "import jieba\n",
    "if not os.path.exists(\"dict.txt.big\"):\n",
    "    print(\"[1st time] 下載大辭典\")\n",
    "    url = \"https://github.com/fxsjy/jieba/raw/master/extra_dict/dict.txt.big\"\n",
    "    urlretrieve(url, \"dict.txt.big\")\n",
    "with open(\"news.txt\", \"r\", encoding=\"utf-8\") as f:\n",
    "    news = f.read()\n",
    "# 自備常用字典 及 可針對專科設定字典\n",
    "jieba.set_dictionary(\"dict.txt.big\")\n",
    "jieba.load_userdict(\"politics_dict.txt\")\n",
    "\" \".join(jieba.cut(news))\n"
   ]
  },
  {
   "cell_type": "code",
   "execution_count": 10,
   "metadata": {},
   "outputs": [
    {
     "data": {
      "text/plain": [
       "['台灣',\n",
       " '何晶',\n",
       " '...',\n",
       " '新加坡',\n",
       " '臉書',\n",
       " '相關',\n",
       " 'Errrr',\n",
       " '網友',\n",
       " '口罩',\n",
       " '李顯龍',\n",
       " '轉發',\n",
       " '報導',\n",
       " '發文',\n",
       " '熱議',\n",
       " '這段',\n",
       " '協助',\n",
       " '表示感謝',\n",
       " '國家',\n",
       " '名單',\n",
       " '表達']"
      ]
     },
     "execution_count": 10,
     "metadata": {},
     "output_type": "execute_result"
    }
   ],
   "source": [
    "from jieba.analyse import extract_tags\n",
    "extract_tags(news)"
   ]
  },
  {
   "cell_type": "code",
   "execution_count": null,
   "metadata": {},
   "outputs": [],
   "source": []
  }
 ],
 "metadata": {
  "kernelspec": {
   "display_name": "Python 3",
   "language": "python",
   "name": "python3"
  },
  "language_info": {
   "codemirror_mode": {
    "name": "ipython",
    "version": 3
   },
   "file_extension": ".py",
   "mimetype": "text/x-python",
   "name": "python",
   "nbconvert_exporter": "python",
   "pygments_lexer": "ipython3",
   "version": "3.7.6"
  }
 },
 "nbformat": 4,
 "nbformat_minor": 4
}
